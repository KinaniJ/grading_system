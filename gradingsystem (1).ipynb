{
 "cells": [
  {
   "cell_type": "code",
   "execution_count": 38,
   "id": "b4972614-63c3-4a06-aea8-076047158fbd",
   "metadata": {},
   "outputs": [
    {
     "name": "stdin",
     "output_type": "stream",
     "text": [
      "input your marks 80\n"
     ]
    },
    {
     "name": "stdout",
     "output_type": "stream",
     "text": [
      "80.0\n",
      "80.0 A+\n"
     ]
    }
   ],
   "source": [
    "marks = float(input(\"input your marks\"))\n",
    "if marks > 100:\n",
    "    raise Exception (\"Grade Error: Invalid Marks\")\n",
    "print(marks)\n",
    "if marks <= 100 >=97:\n",
    "    print( marks, \"A+\")\n",
    "elif marks >=93 <=96.9:\n",
    "    print( marks, \"A\")\n",
    "elif marks >=90 <=92.9:\n",
    "    print( marks, \"A-\")\n",
    "elif marks >=87 <=89.9:\n",
    "    print( marks, \"B+\")\n",
    "elif marks >=83 <=86.9:\n",
    "    print( marks, \"B\")\n",
    "elif marks >=80 <=82.9:\n",
    "    print( marks, \"B-\")\n",
    "elif marks >=77 <=79.9:\n",
    "    print( marks, \"C+\")\n",
    "elif marks >=73 <=76.9:\n",
    "    print( marks, \"C\")\n",
    "elif marks >=70 <=72.9:\n",
    "    print( marks, \"C-\")\n",
    "elif marks >=67 <=69.9:\n",
    "    print( marks, \"D+\")\n",
    "elif marks >=63 <=66.9:\n",
    "    print( marks, \"D\")\n",
    "elif marks >=60 <=62.9:\n",
    "    print( marks, \"D-\")\n",
    "else:\n",
    "    print('E')\n"
   ]
  },
  {
   "cell_type": "code",
   "execution_count": 9,
   "id": "86f9727e-d63c-4c91-96e9-afb911c6d8c6",
   "metadata": {},
   "outputs": [
    {
     "name": "stdout",
     "output_type": "stream",
     "text": [
      "1000.0 A\n"
     ]
    }
   ],
   "source": [
    "91\n"
   ]
  },
  {
   "cell_type": "code",
   "execution_count": null,
   "id": "c1ea564e-767b-46b6-bd36-060ea301dc00",
   "metadata": {},
   "outputs": [],
   "source": []
  }
 ],
 "metadata": {
  "kernelspec": {
   "display_name": "Python 3 (ipykernel)",
   "language": "python",
   "name": "python3"
  },
  "language_info": {
   "codemirror_mode": {
    "name": "ipython",
    "version": 3
   },
   "file_extension": ".py",
   "mimetype": "text/x-python",
   "name": "python",
   "nbconvert_exporter": "python",
   "pygments_lexer": "ipython3",
   "version": "3.11.4"
  }
 },
 "nbformat": 4,
 "nbformat_minor": 5
}
